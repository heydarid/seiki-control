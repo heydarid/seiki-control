{
 "cells": [
  {
   "cell_type": "code",
   "execution_count": 1,
   "id": "979569c1",
   "metadata": {},
   "outputs": [],
   "source": [
    "import sys"
   ]
  },
  {
   "cell_type": "code",
   "execution_count": 22,
   "id": "3f2de62d",
   "metadata": {},
   "outputs": [],
   "source": [
    "import time"
   ]
  },
  {
   "cell_type": "code",
   "execution_count": 2,
   "id": "f1c8a258",
   "metadata": {},
   "outputs": [
    {
     "data": {
      "text/plain": [
       "'3.7.10 (default, Feb 26 2021, 13:06:18) [MSC v.1916 64 bit (AMD64)]'"
      ]
     },
     "execution_count": 2,
     "metadata": {},
     "output_type": "execute_result"
    }
   ],
   "source": [
    "sys.version"
   ]
  },
  {
   "cell_type": "code",
   "execution_count": 3,
   "id": "6a6820e7",
   "metadata": {},
   "outputs": [],
   "source": [
    "sys.path.insert(0, r'C:\\Users\\mabuchinlo\\lab-software\\seiki\\PythonSampleProgram\\DsSampleProgram')"
   ]
  },
  {
   "cell_type": "code",
   "execution_count": 4,
   "id": "f3c809d9",
   "metadata": {},
   "outputs": [],
   "source": [
    "import control_davd"
   ]
  },
  {
   "cell_type": "code",
   "execution_count": 5,
   "id": "0bc3bae2",
   "metadata": {},
   "outputs": [],
   "source": [
    "import serial"
   ]
  },
  {
   "cell_type": "code",
   "execution_count": 6,
   "id": "6bb6053f",
   "metadata": {},
   "outputs": [
    {
     "data": {
      "text/plain": [
       "[<serial.tools.list_ports_common.ListPortInfo at 0x214aaa5b688>,\n",
       " <serial.tools.list_ports_common.ListPortInfo at 0x214aaa5b808>]"
      ]
     },
     "execution_count": 6,
     "metadata": {},
     "output_type": "execute_result"
    }
   ],
   "source": [
    "serial.tools.list_ports.comports()"
   ]
  },
  {
   "cell_type": "code",
   "execution_count": 14,
   "id": "d971fe72",
   "metadata": {},
   "outputs": [
    {
     "name": "stdout",
     "output_type": "stream",
     "text": [
      "enable port: COM5\n"
     ]
    }
   ],
   "source": [
    "com = control_davd.search_com_port()"
   ]
  },
  {
   "cell_type": "code",
   "execution_count": 16,
   "id": "75435a5d",
   "metadata": {},
   "outputs": [],
   "source": [
    "ser = serial.Serial(com, 9600, timeout=0.5)"
   ]
  },
  {
   "cell_type": "code",
   "execution_count": 21,
   "id": "e955a855",
   "metadata": {},
   "outputs": [
    {
     "name": "stdout",
     "output_type": "stream",
     "text": [
      "b''\n",
      "b''\n",
      "b''\n",
      "b''\n",
      "b''\n",
      "b''\n"
     ]
    }
   ],
   "source": [
    "for i in range(1,7):\n",
    "    writedata = 'AXI' + str(i) + \":SELSP\" + \" 7\"\n",
    "    w_data = (writedata + '\\r').encode('utf-8')\n",
    "    r_size = 256\n",
    "    ser.write(w_data)\n",
    "    print(ser.read_until(size=r_size))"
   ]
  },
  {
   "cell_type": "code",
   "execution_count": 27,
   "id": "f3953c22",
   "metadata": {},
   "outputs": [
    {
     "name": "stdout",
     "output_type": "stream",
     "text": [
      "b''\n",
      "b''\n",
      "b''\n",
      "b''\n",
      "b''\n",
      "b''\n"
     ]
    }
   ],
   "source": [
    "for i in range(1,7):\n",
    "    writedata = 'AXI' + str(i) + \":GOABS\" + \" 0\"\n",
    "    w_data = (writedata + '\\r').encode('utf-8')\n",
    "    r_size = 256\n",
    "    ser.write(w_data)\n",
    "    print(ser.read_until(size=r_size))\n",
    "#     time.sleep(10)"
   ]
  },
  {
   "cell_type": "markdown",
   "id": "8f1d25d9",
   "metadata": {},
   "source": [
    "Goal is to write a kind of GUI or something to do the following:\n",
    "* jog the stage\n",
    "* move the stage to prescibed position\n",
    "* maximize the throughput (use lowest resolution, lowest speed, move very slowly, and obtain feedback data from the relevant detector) \n",
    "    * check if I am at correct position yet, do not run next stage command until...\n",
    "* set the speed\n"
   ]
  },
  {
   "cell_type": "markdown",
   "id": "6cf4735c",
   "metadata": {},
   "source": [
    "# new package development"
   ]
  },
  {
   "cell_type": "code",
   "execution_count": 1,
   "id": "5b5f65a4",
   "metadata": {},
   "outputs": [],
   "source": [
    "import seikicontrol"
   ]
  },
  {
   "cell_type": "code",
   "execution_count": 2,
   "id": "785ce998",
   "metadata": {},
   "outputs": [
    {
     "ename": "ModuleNotFoundError",
     "evalue": "No module named 'serial'",
     "output_type": "error",
     "traceback": [
      "\u001b[1;31m---------------------------------------------------------------------------\u001b[0m",
      "\u001b[1;31mModuleNotFoundError\u001b[0m                       Traceback (most recent call last)",
      "\u001b[1;32m<ipython-input-2-ab7302ede50f>\u001b[0m in \u001b[0;36m<module>\u001b[1;34m\u001b[0m\n\u001b[1;32m----> 1\u001b[1;33m \u001b[1;32mfrom\u001b[0m \u001b[0mseikicontrol\u001b[0m \u001b[1;32mimport\u001b[0m \u001b[0mcontrol\u001b[0m\u001b[1;33m\u001b[0m\u001b[1;33m\u001b[0m\u001b[0m\n\u001b[0m",
      "\u001b[1;32m~\\anaconda3\\lib\\site-packages\\seikicontrol\\control.py\u001b[0m in \u001b[0;36m<module>\u001b[1;34m\u001b[0m\n\u001b[0;32m      9\u001b[0m \"\"\"\n\u001b[0;32m     10\u001b[0m \u001b[1;33m\u001b[0m\u001b[0m\n\u001b[1;32m---> 11\u001b[1;33m \u001b[1;32mimport\u001b[0m \u001b[0mserial\u001b[0m\u001b[1;33m\u001b[0m\u001b[1;33m\u001b[0m\u001b[0m\n\u001b[0m\u001b[0;32m     12\u001b[0m \u001b[1;32mfrom\u001b[0m \u001b[0menum\u001b[0m \u001b[1;32mimport\u001b[0m \u001b[0mEnum\u001b[0m\u001b[1;33m\u001b[0m\u001b[1;33m\u001b[0m\u001b[0m\n\u001b[0;32m     13\u001b[0m \u001b[1;32mfrom\u001b[0m \u001b[0menum\u001b[0m \u001b[1;32mimport\u001b[0m \u001b[0mIntEnum\u001b[0m\u001b[1;33m\u001b[0m\u001b[1;33m\u001b[0m\u001b[0m\n",
      "\u001b[1;31mModuleNotFoundError\u001b[0m: No module named 'serial'"
     ]
    }
   ],
   "source": [
    "from seikicontrol import control"
   ]
  },
  {
   "cell_type": "code",
   "execution_count": null,
   "id": "571ad241",
   "metadata": {},
   "outputs": [],
   "source": []
  }
 ],
 "metadata": {
  "kernelspec": {
   "display_name": "Python 3",
   "language": "python",
   "name": "python3"
  },
  "language_info": {
   "codemirror_mode": {
    "name": "ipython",
    "version": 3
   },
   "file_extension": ".py",
   "mimetype": "text/x-python",
   "name": "python",
   "nbconvert_exporter": "python",
   "pygments_lexer": "ipython3",
   "version": "3.8.8"
  }
 },
 "nbformat": 4,
 "nbformat_minor": 5
}
