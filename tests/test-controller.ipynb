{
 "cells": [
  {
   "cell_type": "code",
   "execution_count": 1,
   "id": "979569c1",
   "metadata": {},
   "outputs": [],
   "source": [
    "import sys"
   ]
  },
  {
   "cell_type": "code",
   "execution_count": 22,
   "id": "3f2de62d",
   "metadata": {},
   "outputs": [],
   "source": [
    "import time"
   ]
  },
  {
   "cell_type": "code",
   "execution_count": 2,
   "id": "f1c8a258",
   "metadata": {},
   "outputs": [
    {
     "data": {
      "text/plain": [
       "'3.7.10 (default, Feb 26 2021, 13:06:18) [MSC v.1916 64 bit (AMD64)]'"
      ]
     },
     "execution_count": 2,
     "metadata": {},
     "output_type": "execute_result"
    }
   ],
   "source": [
    "sys.version"
   ]
  },
  {
   "cell_type": "code",
   "execution_count": 3,
   "id": "6a6820e7",
   "metadata": {},
   "outputs": [],
   "source": [
    "sys.path.insert(0, r'C:\\Users\\mabuchinlo\\lab-software\\seiki\\PythonSampleProgram\\DsSampleProgram')"
   ]
  },
  {
   "cell_type": "code",
   "execution_count": 4,
   "id": "f3c809d9",
   "metadata": {},
   "outputs": [],
   "source": [
    "import control_davd"
   ]
  },
  {
   "cell_type": "code",
   "execution_count": 5,
   "id": "0bc3bae2",
   "metadata": {},
   "outputs": [],
   "source": [
    "import serial"
   ]
  },
  {
   "cell_type": "code",
   "execution_count": 6,
   "id": "6bb6053f",
   "metadata": {},
   "outputs": [
    {
     "data": {
      "text/plain": [
       "[<serial.tools.list_ports_common.ListPortInfo at 0x214aaa5b688>,\n",
       " <serial.tools.list_ports_common.ListPortInfo at 0x214aaa5b808>]"
      ]
     },
     "execution_count": 6,
     "metadata": {},
     "output_type": "execute_result"
    }
   ],
   "source": [
    "serial.tools.list_ports.comports()"
   ]
  },
  {
   "cell_type": "code",
   "execution_count": 14,
   "id": "d971fe72",
   "metadata": {},
   "outputs": [
    {
     "name": "stdout",
     "output_type": "stream",
     "text": [
      "enable port: COM5\n"
     ]
    }
   ],
   "source": [
    "com = control_davd.search_com_port()"
   ]
  },
  {
   "cell_type": "code",
   "execution_count": 16,
   "id": "75435a5d",
   "metadata": {},
   "outputs": [],
   "source": [
    "ser = serial.Serial(com, 9600, timeout=0.5)"
   ]
  },
  {
   "cell_type": "code",
   "execution_count": 21,
   "id": "e955a855",
   "metadata": {},
   "outputs": [
    {
     "name": "stdout",
     "output_type": "stream",
     "text": [
      "b''\n",
      "b''\n",
      "b''\n",
      "b''\n",
      "b''\n",
      "b''\n"
     ]
    }
   ],
   "source": [
    "for i in range(1,7):\n",
    "    writedata = 'AXI' + str(i) + \":SELSP\" + \" 7\"\n",
    "    w_data = (writedata + '\\r').encode('utf-8')\n",
    "    r_size = 256\n",
    "    ser.write(w_data)\n",
    "    print(ser.read_until(size=r_size))"
   ]
  },
  {
   "cell_type": "code",
   "execution_count": 27,
   "id": "f3953c22",
   "metadata": {},
   "outputs": [
    {
     "name": "stdout",
     "output_type": "stream",
     "text": [
      "b''\n",
      "b''\n",
      "b''\n",
      "b''\n",
      "b''\n",
      "b''\n"
     ]
    }
   ],
   "source": [
    "for i in range(1,7):\n",
    "    writedata = 'AXI' + str(i) + \":GOABS\" + \" 0\"\n",
    "    w_data = (writedata + '\\r').encode('utf-8')\n",
    "    r_size = 256\n",
    "    ser.write(w_data)\n",
    "    print(ser.read_until(size=r_size))\n",
    "#     time.sleep(10)"
   ]
  },
  {
   "cell_type": "markdown",
   "id": "8f1d25d9",
   "metadata": {},
   "source": [
    "Goal is to write a kind of GUI or something to do the following:\n",
    "* jog the stage\n",
    "* move the stage to prescibed position\n",
    "* maximize the throughput (use lowest resolution, lowest speed, move very slowly, and obtain feedback data from the relevant detector) \n",
    "    * check if I am at correct position yet, do not run next stage command until...\n",
    "* set the speed\n"
   ]
  },
  {
   "cell_type": "markdown",
   "id": "6cf4735c",
   "metadata": {},
   "source": [
    "# new package development"
   ]
  },
  {
   "cell_type": "code",
   "execution_count": 1,
   "id": "5b5f65a4",
   "metadata": {},
   "outputs": [],
   "source": [
    "import seikicontrol"
   ]
  },
  {
   "cell_type": "code",
   "execution_count": 2,
   "id": "785ce998",
   "metadata": {},
   "outputs": [],
   "source": [
    "from seikicontrol import control"
   ]
  },
  {
   "cell_type": "code",
   "execution_count": 3,
   "id": "a9b362aa",
   "metadata": {},
   "outputs": [],
   "source": [
    "import serial"
   ]
  },
  {
   "cell_type": "code",
   "execution_count": 4,
   "id": "1d54457c",
   "metadata": {},
   "outputs": [
    {
     "data": {
      "text/plain": [
       "'3.4'"
      ]
     },
     "execution_count": 4,
     "metadata": {},
     "output_type": "execute_result"
    }
   ],
   "source": [
    "serial.__version__"
   ]
  },
  {
   "cell_type": "code",
   "execution_count": null,
   "id": "a68280a3",
   "metadata": {},
   "outputs": [],
   "source": []
  }
 ],
 "metadata": {
  "kernelspec": {
   "display_name": "Python 3",
   "language": "python",
   "name": "python3"
  },
  "language_info": {
   "codemirror_mode": {
    "name": "ipython",
    "version": 3
   },
   "file_extension": ".py",
   "mimetype": "text/x-python",
   "name": "python",
   "nbconvert_exporter": "python",
   "pygments_lexer": "ipython3",
   "version": "3.8.8"
  }
 },
 "nbformat": 4,
 "nbformat_minor": 5
}
