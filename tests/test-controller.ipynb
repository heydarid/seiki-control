{
 "cells": [
  {
   "cell_type": "code",
   "execution_count": 1,
   "id": "979569c1",
   "metadata": {},
   "outputs": [],
   "source": [
    "import sys"
   ]
  },
  {
   "cell_type": "code",
   "execution_count": 2,
   "id": "3f2de62d",
   "metadata": {},
   "outputs": [],
   "source": [
    "import time"
   ]
  },
  {
   "cell_type": "code",
   "execution_count": 3,
   "id": "f1c8a258",
   "metadata": {},
   "outputs": [
    {
     "data": {
      "text/plain": [
       "'3.8.8 (default, Apr 13 2021, 15:08:03) [MSC v.1916 64 bit (AMD64)]'"
      ]
     },
     "execution_count": 3,
     "metadata": {},
     "output_type": "execute_result"
    }
   ],
   "source": [
    "sys.version"
   ]
  },
  {
   "cell_type": "code",
   "execution_count": 4,
   "id": "6a6820e7",
   "metadata": {},
   "outputs": [],
   "source": [
    "sys.path.insert(0, r'../seikicontrol')"
   ]
  },
  {
   "cell_type": "markdown",
   "id": "e7396606",
   "metadata": {
    "heading_collapsed": true
   },
   "source": [
    "# test"
   ]
  },
  {
   "cell_type": "code",
   "execution_count": 5,
   "id": "f3c809d9",
   "metadata": {
    "hidden": true
   },
   "outputs": [],
   "source": [
    "import control"
   ]
  },
  {
   "cell_type": "code",
   "execution_count": 6,
   "id": "0bc3bae2",
   "metadata": {
    "hidden": true
   },
   "outputs": [],
   "source": [
    "import serial"
   ]
  },
  {
   "cell_type": "code",
   "execution_count": 7,
   "id": "a54933b6",
   "metadata": {
    "hidden": true
   },
   "outputs": [
    {
     "data": {
      "text/plain": [
       "'3.4'"
      ]
     },
     "execution_count": 7,
     "metadata": {},
     "output_type": "execute_result"
    }
   ],
   "source": [
    "serial.__version__"
   ]
  },
  {
   "cell_type": "code",
   "execution_count": 8,
   "id": "e13fe91f",
   "metadata": {
    "hidden": true
   },
   "outputs": [],
   "source": [
    "import serial.tools.list_ports"
   ]
  },
  {
   "cell_type": "code",
   "execution_count": 18,
   "id": "6bb6053f",
   "metadata": {
    "hidden": true
   },
   "outputs": [
    {
     "data": {
      "text/plain": [
       "[<serial.tools.list_ports_common.ListPortInfo at 0x23fac3bc400>,\n",
       " <serial.tools.list_ports_common.ListPortInfo at 0x23fac3bcd00>]"
      ]
     },
     "execution_count": 18,
     "metadata": {},
     "output_type": "execute_result"
    }
   ],
   "source": [
    "tools.list_ports.comports()"
   ]
  },
  {
   "cell_type": "code",
   "execution_count": 27,
   "id": "d971fe72",
   "metadata": {
    "hidden": true
   },
   "outputs": [
    {
     "name": "stdout",
     "output_type": "stream",
     "text": [
      "enable port: COM1\n"
     ]
    }
   ],
   "source": [
    "com = control.search_com_port()"
   ]
  },
  {
   "cell_type": "code",
   "execution_count": 34,
   "id": "75435a5d",
   "metadata": {
    "hidden": true
   },
   "outputs": [],
   "source": [
    "ser = serial.Serial('COM5', 9600, timeout=0.5)"
   ]
  },
  {
   "cell_type": "code",
   "execution_count": 35,
   "id": "e955a855",
   "metadata": {
    "hidden": true
   },
   "outputs": [
    {
     "name": "stdout",
     "output_type": "stream",
     "text": [
      "b''\n",
      "b''\n",
      "b''\n",
      "b''\n",
      "b''\n",
      "b''\n"
     ]
    }
   ],
   "source": [
    "for i in range(1,7):\n",
    "    writedata = 'AXI' + str(i) + \":SELSP\" + \" 7\"\n",
    "    w_data = (writedata + '\\r').encode('utf-8')\n",
    "    r_size = 256\n",
    "    ser.write(w_data)\n",
    "    print(ser.read_until(size=r_size))"
   ]
  },
  {
   "cell_type": "code",
   "execution_count": 37,
   "id": "f3953c22",
   "metadata": {
    "hidden": true
   },
   "outputs": [
    {
     "name": "stdout",
     "output_type": "stream",
     "text": [
      "b''\n",
      "b''\n",
      "b''\n",
      "b''\n",
      "b''\n",
      "b''\n"
     ]
    }
   ],
   "source": [
    "for i in range(1,7):\n",
    "    writedata = 'AXI' + str(i) + \":GOABS\" + \" 1000\"\n",
    "    w_data = (writedata + '\\r').encode('utf-8')\n",
    "    r_size = 256\n",
    "    ser.write(w_data)\n",
    "    print(ser.read_until(size=r_size))\n",
    "#     time.sleep(10)"
   ]
  },
  {
   "cell_type": "markdown",
   "id": "8f1d25d9",
   "metadata": {
    "hidden": true
   },
   "source": [
    "Goal is to write a kind of GUI or something to do the following:\n",
    "* jog the stage\n",
    "* move the stage to prescibed position\n",
    "* maximize the throughput (use lowest resolution, lowest speed, move very slowly, and obtain feedback data from the relevant detector) \n",
    "    * check if I am at correct position yet, do not run next stage command until...\n",
    "* set the speed\n"
   ]
  },
  {
   "cell_type": "markdown",
   "id": "6cf4735c",
   "metadata": {},
   "source": [
    "# new package development"
   ]
  },
  {
   "cell_type": "code",
   "execution_count": 5,
   "id": "5b5f65a4",
   "metadata": {},
   "outputs": [],
   "source": [
    "import seikicontrol"
   ]
  },
  {
   "cell_type": "code",
   "execution_count": 6,
   "id": "785ce998",
   "metadata": {},
   "outputs": [],
   "source": [
    "from seikicontrol import control"
   ]
  },
  {
   "cell_type": "code",
   "execution_count": 7,
   "id": "a68280a3",
   "metadata": {},
   "outputs": [],
   "source": [
    "Stage = control.Seiki()"
   ]
  },
  {
   "cell_type": "code",
   "execution_count": 10,
   "id": "6d95b147",
   "metadata": {},
   "outputs": [
    {
     "data": {
      "text/plain": [
       "'COM5'"
      ]
     },
     "execution_count": 10,
     "metadata": {},
     "output_type": "execute_result"
    }
   ],
   "source": [
    "Stage.com_port"
   ]
  },
  {
   "cell_type": "code",
   "execution_count": 5,
   "id": "fdec6039",
   "metadata": {},
   "outputs": [
    {
     "data": {
      "text/plain": [
       "[None, None, None, None, None, None]"
      ]
     },
     "execution_count": 5,
     "metadata": {},
     "output_type": "execute_result"
    }
   ],
   "source": [
    "[Stage.speed(i, 7) for i in range(1,7)]"
   ]
  },
  {
   "cell_type": "code",
   "execution_count": 6,
   "id": "e377351a",
   "metadata": {},
   "outputs": [
    {
     "data": {
      "text/plain": [
       "[None, None, None, None, None, None]"
      ]
     },
     "execution_count": 6,
     "metadata": {},
     "output_type": "execute_result"
    }
   ],
   "source": [
    "[Stage.goto_abs(i, 0) for i in range(1,7)]"
   ]
  },
  {
   "cell_type": "markdown",
   "id": "06e62fdd",
   "metadata": {},
   "source": [
    "# Parameter request"
   ]
  },
  {
   "cell_type": "code",
   "execution_count": 9,
   "id": "8d50b84f",
   "metadata": {},
   "outputs": [
    {
     "ename": "AttributeError",
     "evalue": "'Seiki' object has no attribute '_get_position'",
     "output_type": "error",
     "traceback": [
      "\u001b[1;31m---------------------------------------------------------------------------\u001b[0m",
      "\u001b[1;31mAttributeError\u001b[0m                            Traceback (most recent call last)",
      "\u001b[1;32m<ipython-input-9-c7173cad2960>\u001b[0m in \u001b[0;36m<module>\u001b[1;34m\u001b[0m\n\u001b[1;32m----> 1\u001b[1;33m \u001b[0mStage\u001b[0m\u001b[1;33m.\u001b[0m\u001b[0m_get_position\u001b[0m\u001b[1;33m(\u001b[0m\u001b[1;33m)\u001b[0m\u001b[1;33m\u001b[0m\u001b[1;33m\u001b[0m\u001b[0m\n\u001b[0m",
      "\u001b[1;31mAttributeError\u001b[0m: 'Seiki' object has no attribute '_get_position'"
     ]
    }
   ],
   "source": [
    "Stage._get_position()"
   ]
  },
  {
   "cell_type": "code",
   "execution_count": null,
   "id": "37d22e30",
   "metadata": {},
   "outputs": [],
   "source": []
  }
 ],
 "metadata": {
  "kernelspec": {
   "display_name": "Python 3",
   "language": "python",
   "name": "python3"
  },
  "language_info": {
   "codemirror_mode": {
    "name": "ipython",
    "version": 3
   },
   "file_extension": ".py",
   "mimetype": "text/x-python",
   "name": "python",
   "nbconvert_exporter": "python",
   "pygments_lexer": "ipython3",
   "version": "3.8.8"
  },
  "varInspector": {
   "cols": {
    "lenName": 16,
    "lenType": 16,
    "lenVar": 40
   },
   "kernels_config": {
    "python": {
     "delete_cmd_postfix": "",
     "delete_cmd_prefix": "del ",
     "library": "var_list.py",
     "varRefreshCmd": "print(var_dic_list())"
    },
    "r": {
     "delete_cmd_postfix": ") ",
     "delete_cmd_prefix": "rm(",
     "library": "var_list.r",
     "varRefreshCmd": "cat(var_dic_list()) "
    }
   },
   "types_to_exclude": [
    "module",
    "function",
    "builtin_function_or_method",
    "instance",
    "_Feature"
   ],
   "window_display": false
  }
 },
 "nbformat": 4,
 "nbformat_minor": 5
}
