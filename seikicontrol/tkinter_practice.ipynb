{
 "cells": [
  {
   "cell_type": "code",
   "execution_count": 9,
   "metadata": {
    "ExecuteTime": {
     "end_time": "2021-11-21T09:03:53.156778Z",
     "start_time": "2021-11-21T09:03:53.147802Z"
    }
   },
   "outputs": [],
   "source": [
    "from tkinter import *"
   ]
  },
  {
   "cell_type": "code",
   "execution_count": 10,
   "metadata": {
    "ExecuteTime": {
     "end_time": "2021-11-21T09:03:53.311364Z",
     "start_time": "2021-11-21T09:03:53.251525Z"
    }
   },
   "outputs": [],
   "source": [
    "root = Tk()"
   ]
  },
  {
   "cell_type": "code",
   "execution_count": 11,
   "metadata": {
    "ExecuteTime": {
     "end_time": "2021-11-21T09:03:53.388159Z",
     "start_time": "2021-11-21T09:03:53.372231Z"
    }
   },
   "outputs": [
    {
     "data": {
      "text/plain": [
       "''"
      ]
     },
     "execution_count": 11,
     "metadata": {},
     "output_type": "execute_result"
    }
   ],
   "source": [
    "root.title(u'SURUGA-SEIKI STAGE CONTROL PROGRAM')"
   ]
  },
  {
   "cell_type": "code",
   "execution_count": 12,
   "metadata": {
    "ExecuteTime": {
     "end_time": "2021-11-21T09:03:53.495872Z",
     "start_time": "2021-11-21T09:03:53.491913Z"
    }
   },
   "outputs": [
    {
     "data": {
      "text/plain": [
       "''"
      ]
     },
     "execution_count": 12,
     "metadata": {},
     "output_type": "execute_result"
    }
   ],
   "source": [
    "root.geometry('1000x300')"
   ]
  },
  {
   "cell_type": "code",
   "execution_count": 13,
   "metadata": {
    "ExecuteTime": {
     "end_time": "2021-11-21T09:03:53.604509Z",
     "start_time": "2021-11-21T09:03:53.595532Z"
    }
   },
   "outputs": [],
   "source": [
    "# Axis selection\n",
    "axisSelect = Label(text=u'Axis control')\n",
    "axisSelect.place(x=50, y=30)\n",
    "\n",
    "axisChoice = StringVar()\n",
    "\n",
    "btn = Radiobutton(text='X IN', activebackground=\"red\", variable=axisChoice, value='X IN',\n",
    "                        indicatoron='False', borderwidth=3, padx=5, pady=5, font='Helvetica 10')\n",
    "y0 = 50\n",
    "x0 = 50\n",
    "DX = 70\n",
    "btn.place(x=x0, y=y0)\n",
    "\n",
    "btn = Radiobutton(text='Y IN', activebackground=\"red\", variable=axisChoice, value='Y IN',\n",
    "                        indicatoron='False', borderwidth=3, padx=5, pady=5, font='Helvetica 10')\n",
    "btn.place(x=x0+DX, y=y0)\n",
    "\n",
    "btn = Radiobutton(text='Z IN', activebackground=\"red\", variable=axisChoice, value='Z IN',\n",
    "                        indicatoron='False', borderwidth=3, padx=5, pady=5, font='Helvetica 10')\n",
    "btn.place(x=x0+2*DX, y=y0)\n",
    "\n",
    "btn = Radiobutton(text='X OUT', activebackground=\"red\", variable=axisChoice, value='X OUT',\n",
    "                        indicatoron='False', borderwidth=3, padx=5, pady=5, font='Helvetica 10')\n",
    "btn.place(x=x0+3*DX, y=y0)\n",
    "\n",
    "btn = Radiobutton(text='Y OUT', activebackground=\"red\", variable=axisChoice, value='Y OUT',\n",
    "                        indicatoron='False', borderwidth=3, padx=5, pady=5, font='Helvetica 10')\n",
    "btn.place(x=x0+4*DX, y=y0)\n",
    "\n",
    "btn = Radiobutton(text='Z OUT', activebackground=\"red\", variable=axisChoice, value='Z OUT',\n",
    "                        indicatoron='False', borderwidth=3, padx=5, pady=5, font='Helvetica 10')\n",
    "btn.place(x=x0+5*DX, y=y0)"
   ]
  },
  {
   "cell_type": "code",
   "execution_count": 14,
   "metadata": {
    "ExecuteTime": {
     "end_time": "2021-11-21T09:03:53.882763Z",
     "start_time": "2021-11-21T09:03:53.875811Z"
    }
   },
   "outputs": [],
   "source": [
    "# Speed sel\n",
    "speedSet = Label(text=u'Speed setting')\n",
    "speedSet.place(x=50, y=100)\n",
    "\n",
    "speedSet = StringVar()\n",
    "\n",
    "y0 = 120\n",
    "x0 = 50\n",
    "DX = 40\n",
    "\n",
    "for speed in range(10):\n",
    "    btnSpeed = Radiobutton(text=str(speed), activebackground=\"red\", variable=speedSet, value=speed,\n",
    "                        indicatoron='False', borderwidth=3, padx=5, pady=3, font='Helvetica 10')\n",
    "    btnSpeed.place(x=x0+speed*DX, y=y0)"
   ]
  },
  {
   "cell_type": "code",
   "execution_count": 15,
   "metadata": {
    "ExecuteTime": {
     "end_time": "2021-11-21T09:03:54.222281Z",
     "start_time": "2021-11-21T09:03:54.211341Z"
    }
   },
   "outputs": [],
   "source": [
    "# emergency stop  (WIP)\n",
    "xOct = 25\n",
    "yOct = 25\n",
    "\n",
    "from math import sin, cos, pi\n",
    "points = []\n",
    "for k in range(1,9):\n",
    "    x0 = xOct * ( cos(2*k*pi / 8 + pi / 8) + 1 ) \n",
    "    y0 = yOct * ( sin(2*k*pi / 8 + pi / 8) + 1 )\n",
    "    points.append(x0)\n",
    "    points.append(y0)\n",
    "points = tuple(points)\n",
    "\n",
    "stop = Canvas(root, width=50, height=50)\n",
    "stop.create_polygon(points, smooth=False, fill='red', outline = 'black')\n",
    "stop.create_text(25, 25, text='STOP!', fill=\"white\", font=('Helvetica 10 bold'))\n",
    "stop.place(anchor='se', relx=1.0, rely=1.0)"
   ]
  },
  {
   "cell_type": "code",
   "execution_count": 16,
   "metadata": {
    "ExecuteTime": {
     "end_time": "2021-11-21T09:04:00.739311Z",
     "start_time": "2021-11-21T09:03:54.659718Z"
    }
   },
   "outputs": [],
   "source": [
    "root.mainloop()"
   ]
  },
  {
   "cell_type": "code",
   "execution_count": null,
   "metadata": {},
   "outputs": [],
   "source": []
  },
  {
   "cell_type": "code",
   "execution_count": null,
   "metadata": {},
   "outputs": [],
   "source": []
  }
 ],
 "metadata": {
  "kernelspec": {
   "display_name": "Python 3",
   "language": "python",
   "name": "python3"
  },
  "language_info": {
   "codemirror_mode": {
    "name": "ipython",
    "version": 3
   },
   "file_extension": ".py",
   "mimetype": "text/x-python",
   "name": "python",
   "nbconvert_exporter": "python",
   "pygments_lexer": "ipython3",
   "version": "3.8.8"
  },
  "varInspector": {
   "cols": {
    "lenName": 16,
    "lenType": 16,
    "lenVar": 40
   },
   "kernels_config": {
    "python": {
     "delete_cmd_postfix": "",
     "delete_cmd_prefix": "del ",
     "library": "var_list.py",
     "varRefreshCmd": "print(var_dic_list())"
    },
    "r": {
     "delete_cmd_postfix": ") ",
     "delete_cmd_prefix": "rm(",
     "library": "var_list.r",
     "varRefreshCmd": "cat(var_dic_list()) "
    }
   },
   "types_to_exclude": [
    "module",
    "function",
    "builtin_function_or_method",
    "instance",
    "_Feature"
   ],
   "window_display": false
  }
 },
 "nbformat": 4,
 "nbformat_minor": 4
}
