{
 "cells": [
  {
   "cell_type": "code",
   "execution_count": 1,
   "metadata": {
    "ExecuteTime": {
     "end_time": "2021-11-21T09:03:53.156778Z",
     "start_time": "2021-11-21T09:03:53.147802Z"
    }
   },
   "outputs": [],
   "source": [
    "from tkinter import *"
   ]
  },
  {
   "cell_type": "code",
   "execution_count": 2,
   "metadata": {
    "ExecuteTime": {
     "end_time": "2021-11-21T09:03:53.311364Z",
     "start_time": "2021-11-21T09:03:53.251525Z"
    }
   },
   "outputs": [],
   "source": [
    "root = Tk()"
   ]
  },
  {
   "cell_type": "code",
   "execution_count": null,
   "metadata": {
    "ExecuteTime": {
     "end_time": "2021-11-21T09:03:53.388159Z",
     "start_time": "2021-11-21T09:03:53.372231Z"
    }
   },
   "outputs": [],
   "source": [
    "root.title(u'SURUGA-SEIKI STAGE CONTROL PROGRAM')"
   ]
  },
  {
   "cell_type": "code",
   "execution_count": null,
   "metadata": {
    "ExecuteTime": {
     "end_time": "2021-11-21T09:03:53.495872Z",
     "start_time": "2021-11-21T09:03:53.491913Z"
    }
   },
   "outputs": [],
   "source": [
    "root.geometry('1000x300')"
   ]
  },
  {
   "cell_type": "code",
   "execution_count": null,
   "metadata": {
    "ExecuteTime": {
     "end_time": "2021-11-21T09:03:53.604509Z",
     "start_time": "2021-11-21T09:03:53.595532Z"
    }
   },
   "outputs": [],
   "source": [
    "# Axis selection\n",
    "axisSelect = Label(text=u'Axis control')\n",
    "axisSelect.place(x=50, y=30)\n",
    "\n",
    "axisChoice = StringVar()\n",
    "\n",
    "btn = Radiobutton(text='X IN', activebackground=\"red\", variable=axisChoice, value='X IN',\n",
    "                        indicatoron='False', borderwidth=3, padx=5, pady=5, font='Helvetica 10')\n",
    "y0 = 50\n",
    "x0 = 50\n",
    "DX = 70\n",
    "btn.place(x=x0, y=y0)\n",
    "\n",
    "btn = Radiobutton(text='Y IN', activebackground=\"red\", variable=axisChoice, value='Y IN',\n",
    "                        indicatoron='False', borderwidth=3, padx=5, pady=5, font='Helvetica 10')\n",
    "btn.place(x=x0+DX, y=y0)\n",
    "\n",
    "btn = Radiobutton(text='Z IN', activebackground=\"red\", variable=axisChoice, value='Z IN',\n",
    "                        indicatoron='False', borderwidth=3, padx=5, pady=5, font='Helvetica 10')\n",
    "btn.place(x=x0+2*DX, y=y0)\n",
    "\n",
    "btn = Radiobutton(text='X OUT', activebackground=\"red\", variable=axisChoice, value='X OUT',\n",
    "                        indicatoron='False', borderwidth=3, padx=5, pady=5, font='Helvetica 10')\n",
    "btn.place(x=x0+3*DX, y=y0)\n",
    "\n",
    "btn = Radiobutton(text='Y OUT', activebackground=\"red\", variable=axisChoice, value='Y OUT',\n",
    "                        indicatoron='False', borderwidth=3, padx=5, pady=5, font='Helvetica 10')\n",
    "btn.place(x=x0+4*DX, y=y0)\n",
    "\n",
    "btn = Radiobutton(text='Z OUT', activebackground=\"red\", variable=axisChoice, value='Z OUT',\n",
    "                        indicatoron='False', borderwidth=3, padx=5, pady=5, font='Helvetica 10')\n",
    "btn.place(x=x0+5*DX, y=y0)"
   ]
  },
  {
   "cell_type": "code",
   "execution_count": 4,
   "metadata": {
    "ExecuteTime": {
     "end_time": "2021-11-21T09:03:53.882763Z",
     "start_time": "2021-11-21T09:03:53.875811Z"
    }
   },
   "outputs": [],
   "source": [
    "# Speed sel\n",
    "speedSet = Label(text=u'Speed setting')\n",
    "speedSet.place(x=50, y=100)\n",
    "\n",
    "speedSet = StringVar()\n",
    "\n",
    "y0 = 120\n",
    "x0 = 50\n",
    "DX = 40\n",
    "\n",
    "for speed in range(10):\n",
    "    btnSpeed = Radiobutton(text=str(speed), activebackground=\"red\", variable=speedSet, value=speed,\n",
    "                        indicatoron='False', borderwidth=3, padx=5, pady=3, font='Helvetica 10')\n",
    "    btnSpeed.place(x=x0+speed*DX, y=y0)"
   ]
  },
  {
   "cell_type": "code",
   "execution_count": 5,
   "metadata": {
    "ExecuteTime": {
     "end_time": "2021-11-21T09:03:54.222281Z",
     "start_time": "2021-11-21T09:03:54.211341Z"
    }
   },
   "outputs": [
    {
     "ename": "TclError",
     "evalue": "can't invoke \"canvas\" command: application has been destroyed",
     "output_type": "error",
     "traceback": [
      "\u001b[1;31m---------------------------------------------------------------------------\u001b[0m",
      "\u001b[1;31mTclError\u001b[0m                                  Traceback (most recent call last)",
      "\u001b[1;32m<ipython-input-5-58483218132b>\u001b[0m in \u001b[0;36m<module>\u001b[1;34m\u001b[0m\n\u001b[0;32m     12\u001b[0m \u001b[0mpoints\u001b[0m \u001b[1;33m=\u001b[0m \u001b[0mtuple\u001b[0m\u001b[1;33m(\u001b[0m\u001b[0mpoints\u001b[0m\u001b[1;33m)\u001b[0m\u001b[1;33m\u001b[0m\u001b[1;33m\u001b[0m\u001b[0m\n\u001b[0;32m     13\u001b[0m \u001b[1;33m\u001b[0m\u001b[0m\n\u001b[1;32m---> 14\u001b[1;33m \u001b[0mstop\u001b[0m \u001b[1;33m=\u001b[0m \u001b[0mCanvas\u001b[0m\u001b[1;33m(\u001b[0m\u001b[0mroot\u001b[0m\u001b[1;33m,\u001b[0m \u001b[0mwidth\u001b[0m\u001b[1;33m=\u001b[0m\u001b[1;36m50\u001b[0m\u001b[1;33m,\u001b[0m \u001b[0mheight\u001b[0m\u001b[1;33m=\u001b[0m\u001b[1;36m50\u001b[0m\u001b[1;33m)\u001b[0m\u001b[1;33m\u001b[0m\u001b[1;33m\u001b[0m\u001b[0m\n\u001b[0m\u001b[0;32m     15\u001b[0m \u001b[0mstop\u001b[0m\u001b[1;33m.\u001b[0m\u001b[0mcreate_polygon\u001b[0m\u001b[1;33m(\u001b[0m\u001b[0mpoints\u001b[0m\u001b[1;33m,\u001b[0m \u001b[0msmooth\u001b[0m\u001b[1;33m=\u001b[0m\u001b[1;32mFalse\u001b[0m\u001b[1;33m,\u001b[0m \u001b[0mfill\u001b[0m\u001b[1;33m=\u001b[0m\u001b[1;34m'red'\u001b[0m\u001b[1;33m,\u001b[0m \u001b[0moutline\u001b[0m \u001b[1;33m=\u001b[0m \u001b[1;34m'black'\u001b[0m\u001b[1;33m)\u001b[0m\u001b[1;33m\u001b[0m\u001b[1;33m\u001b[0m\u001b[0m\n\u001b[0;32m     16\u001b[0m \u001b[0mstop\u001b[0m\u001b[1;33m.\u001b[0m\u001b[0mcreate_text\u001b[0m\u001b[1;33m(\u001b[0m\u001b[1;36m25\u001b[0m\u001b[1;33m,\u001b[0m \u001b[1;36m25\u001b[0m\u001b[1;33m,\u001b[0m \u001b[0mtext\u001b[0m\u001b[1;33m=\u001b[0m\u001b[1;34m'STOP!'\u001b[0m\u001b[1;33m,\u001b[0m \u001b[0mfill\u001b[0m\u001b[1;33m=\u001b[0m\u001b[1;34m\"white\"\u001b[0m\u001b[1;33m,\u001b[0m \u001b[0mfont\u001b[0m\u001b[1;33m=\u001b[0m\u001b[1;33m(\u001b[0m\u001b[1;34m'Helvetica 10 bold'\u001b[0m\u001b[1;33m)\u001b[0m\u001b[1;33m)\u001b[0m\u001b[1;33m\u001b[0m\u001b[1;33m\u001b[0m\u001b[0m\n",
      "\u001b[1;32m~\\anaconda3\\lib\\tkinter\\__init__.py\u001b[0m in \u001b[0;36m__init__\u001b[1;34m(self, master, cnf, **kw)\u001b[0m\n\u001b[0;32m   2686\u001b[0m         \u001b[0mstate\u001b[0m\u001b[1;33m,\u001b[0m \u001b[0mtakefocus\u001b[0m\u001b[1;33m,\u001b[0m \u001b[0mwidth\u001b[0m\u001b[1;33m,\u001b[0m \u001b[0mxscrollcommand\u001b[0m\u001b[1;33m,\u001b[0m \u001b[0mxscrollincrement\u001b[0m\u001b[1;33m,\u001b[0m\u001b[1;33m\u001b[0m\u001b[1;33m\u001b[0m\u001b[0m\n\u001b[0;32m   2687\u001b[0m         yscrollcommand, yscrollincrement.\"\"\"\n\u001b[1;32m-> 2688\u001b[1;33m         \u001b[0mWidget\u001b[0m\u001b[1;33m.\u001b[0m\u001b[0m__init__\u001b[0m\u001b[1;33m(\u001b[0m\u001b[0mself\u001b[0m\u001b[1;33m,\u001b[0m \u001b[0mmaster\u001b[0m\u001b[1;33m,\u001b[0m \u001b[1;34m'canvas'\u001b[0m\u001b[1;33m,\u001b[0m \u001b[0mcnf\u001b[0m\u001b[1;33m,\u001b[0m \u001b[0mkw\u001b[0m\u001b[1;33m)\u001b[0m\u001b[1;33m\u001b[0m\u001b[1;33m\u001b[0m\u001b[0m\n\u001b[0m\u001b[0;32m   2689\u001b[0m \u001b[1;33m\u001b[0m\u001b[0m\n\u001b[0;32m   2690\u001b[0m     \u001b[1;32mdef\u001b[0m \u001b[0maddtag\u001b[0m\u001b[1;33m(\u001b[0m\u001b[0mself\u001b[0m\u001b[1;33m,\u001b[0m \u001b[1;33m*\u001b[0m\u001b[0margs\u001b[0m\u001b[1;33m)\u001b[0m\u001b[1;33m:\u001b[0m\u001b[1;33m\u001b[0m\u001b[1;33m\u001b[0m\u001b[0m\n",
      "\u001b[1;32m~\\anaconda3\\lib\\tkinter\\__init__.py\u001b[0m in \u001b[0;36m__init__\u001b[1;34m(self, master, widgetName, cnf, kw, extra)\u001b[0m\n\u001b[0;32m   2570\u001b[0m         \u001b[1;32mfor\u001b[0m \u001b[0mk\u001b[0m\u001b[1;33m,\u001b[0m \u001b[0mv\u001b[0m \u001b[1;32min\u001b[0m \u001b[0mclasses\u001b[0m\u001b[1;33m:\u001b[0m\u001b[1;33m\u001b[0m\u001b[1;33m\u001b[0m\u001b[0m\n\u001b[0;32m   2571\u001b[0m             \u001b[1;32mdel\u001b[0m \u001b[0mcnf\u001b[0m\u001b[1;33m[\u001b[0m\u001b[0mk\u001b[0m\u001b[1;33m]\u001b[0m\u001b[1;33m\u001b[0m\u001b[1;33m\u001b[0m\u001b[0m\n\u001b[1;32m-> 2572\u001b[1;33m         self.tk.call(\n\u001b[0m\u001b[0;32m   2573\u001b[0m             (widgetName, self._w) + extra + self._options(cnf))\n\u001b[0;32m   2574\u001b[0m         \u001b[1;32mfor\u001b[0m \u001b[0mk\u001b[0m\u001b[1;33m,\u001b[0m \u001b[0mv\u001b[0m \u001b[1;32min\u001b[0m \u001b[0mclasses\u001b[0m\u001b[1;33m:\u001b[0m\u001b[1;33m\u001b[0m\u001b[1;33m\u001b[0m\u001b[0m\n",
      "\u001b[1;31mTclError\u001b[0m: can't invoke \"canvas\" command: application has been destroyed"
     ]
    }
   ],
   "source": [
    "# emergency stop  (WIP)\n",
    "xOct = 25\n",
    "yOct = 25\n",
    "\n",
    "from math import sin, cos, pi\n",
    "points = []\n",
    "for k in range(1,9):\n",
    "    x0 = xOct * ( cos(2*k*pi / 8 + pi / 8) + 1 ) \n",
    "    y0 = yOct * ( sin(2*k*pi / 8 + pi / 8) + 1 )\n",
    "    points.append(x0)\n",
    "    points.append(y0)\n",
    "points = tuple(points)\n",
    "\n",
    "stop = Canvas(root, width=50, height=50)\n",
    "stop.create_polygon(points, smooth=False, fill='red', outline = 'black')\n",
    "stop.create_text(25, 25, text='STOP!', fill=\"white\", font=('Helvetica 10 bold'))\n",
    "stop.place(anchor='se', relx=1.0, rely=1.0)"
   ]
  },
  {
   "cell_type": "code",
   "execution_count": 6,
   "metadata": {},
   "outputs": [
    {
     "name": "stdout",
     "output_type": "stream",
     "text": [
      "<class 'str'>\n"
     ]
    }
   ],
   "source": [
    "txtSend = Entry(width=50)\n",
    "txtSend.insert(END, 100)\n",
    "txtSend.place(x=50, y=50)\n",
    "\n",
    "value = txtSend.get()\n",
    "print(type(value))"
   ]
  },
  {
   "cell_type": "code",
   "execution_count": 7,
   "metadata": {
    "ExecuteTime": {
     "end_time": "2021-11-21T09:04:00.739311Z",
     "start_time": "2021-11-21T09:03:54.659718Z"
    }
   },
   "outputs": [],
   "source": [
    "root.mainloop()"
   ]
  },
  {
   "cell_type": "code",
   "execution_count": null,
   "metadata": {},
   "outputs": [],
   "source": []
  },
  {
   "cell_type": "code",
   "execution_count": null,
   "metadata": {},
   "outputs": [],
   "source": []
  }
 ],
 "metadata": {
  "kernelspec": {
   "display_name": "Python 3",
   "language": "python",
   "name": "python3"
  },
  "language_info": {
   "codemirror_mode": {
    "name": "ipython",
    "version": 3
   },
   "file_extension": ".py",
   "mimetype": "text/x-python",
   "name": "python",
   "nbconvert_exporter": "python",
   "pygments_lexer": "ipython3",
   "version": "3.8.8"
  },
  "varInspector": {
   "cols": {
    "lenName": 16,
    "lenType": 16,
    "lenVar": 40
   },
   "kernels_config": {
    "python": {
     "delete_cmd_postfix": "",
     "delete_cmd_prefix": "del ",
     "library": "var_list.py",
     "varRefreshCmd": "print(var_dic_list())"
    },
    "r": {
     "delete_cmd_postfix": ") ",
     "delete_cmd_prefix": "rm(",
     "library": "var_list.r",
     "varRefreshCmd": "cat(var_dic_list()) "
    }
   },
   "types_to_exclude": [
    "module",
    "function",
    "builtin_function_or_method",
    "instance",
    "_Feature"
   ],
   "window_display": false
  }
 },
 "nbformat": 4,
 "nbformat_minor": 4
}
